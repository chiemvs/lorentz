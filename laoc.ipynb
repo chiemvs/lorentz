{
 "cells": [
  {
   "cell_type": "code",
   "execution_count": 1,
   "id": "972f1eea-16f4-47dd-996d-c4cb690e6df5",
   "metadata": {},
   "outputs": [
    {
     "name": "stderr",
     "output_type": "stream",
     "text": [
      "2022-09-08 09:10:21.570918: W tensorflow/stream_executor/platform/default/dso_loader.cc:64] Could not load dynamic library 'libcudart.so.11.0'; dlerror: libcudart.so.11.0: cannot open shared object file: No such file or directory\n",
      "2022-09-08 09:10:21.570949: I tensorflow/stream_executor/cuda/cudart_stub.cc:29] Ignore above cudart dlerror if you do not have a GPU set up on your machine.\n"
     ]
    }
   ],
   "source": [
    "import numpy as np\n",
    "import xarray as xr\n",
    "import pandas as pd\n",
    "import tensorflow as tf\n",
    "import matplotlib.pyplot as plt\n",
    "\n",
    "from pathlib import Path\n",
    "\n",
    "from preprocessing import preprocess_ecmwf, preprocess_target, preprocess_raw_forecasts\n",
    "from cnn_training import generate_climprob_inputs, ModelRegistry, construct_climdev_cnn, DEFAULT_FIT, DEFAULT_COMPILE, DEFAULT_CONSTRUCT\n",
    "from verification import l1yocv_climatology, brier_skill_score, reliability_diagram"
   ]
  },
  {
   "cell_type": "code",
   "execution_count": 2,
   "id": "98b20db3-80bf-4bb5-80b1-cb4d790881f1",
   "metadata": {},
   "outputs": [],
   "source": [
    "ocean_mask = xr.open_dataset(\"/data/volume_2/subseasonal/ecmwf/raw/forecast/ecmwf-forecast-sst-20200813.nc\").isel(realization=0,forecast_time=0,lead_time=0)\n",
    "laoc_mask = ocean_mask.where(np.isnan(ocean_mask.sst), 1, 1).sst\n",
    "laoc_mask.to_netcdf(\"/data/volume_2/masks/laoc_mask_1.5deg.nc\")"
   ]
  },
  {
   "cell_type": "code",
   "execution_count": null,
   "id": "82478ce4-83bb-4fb7-a3cd-5cd2782219c1",
   "metadata": {},
   "outputs": [],
   "source": []
  }
 ],
 "metadata": {
  "kernelspec": {
   "display_name": "surf_venv",
   "language": "python",
   "name": "surf_venv"
  },
  "language_info": {
   "codemirror_mode": {
    "name": "ipython",
    "version": 3
   },
   "file_extension": ".py",
   "mimetype": "text/x-python",
   "name": "python",
   "nbconvert_exporter": "python",
   "pygments_lexer": "ipython3",
   "version": "3.9.12"
  }
 },
 "nbformat": 4,
 "nbformat_minor": 5
}
